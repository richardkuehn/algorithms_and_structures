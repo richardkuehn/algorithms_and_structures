{
 "cells": [
  {
   "cell_type": "markdown",
   "metadata": {},
   "source": [
    "**ICA 4.3b: Create binary tree with Python**"
   ]
  },
  {
   "cell_type": "code",
   "execution_count": 3,
   "metadata": {},
   "outputs": [],
   "source": [
    "# binarytree\n",
    "from binarytree import Node as node"
   ]
  },
  {
   "cell_type": "code",
   "execution_count": 4,
   "metadata": {},
   "outputs": [
    {
     "name": "stdout",
     "output_type": "stream",
     "text": [
      "\n",
      "    ___3__\n",
      "   /      \\\n",
      "  1        6\n",
      " / \\      / \\\n",
      "2   11   9   5\n",
      "\n"
     ]
    }
   ],
   "source": [
    "# root\n",
    "root = node(3)\n",
    "\n",
    "# left subtree\n",
    "root.left = node(1)\n",
    "root.left.left = node(2)\n",
    "root.left.right = node(11)\n",
    "\n",
    "# right subtree\n",
    "root.right = node(6)\n",
    "root.right.left = node(9)\n",
    "root.right.right = node(5)\n",
    "\n",
    "print(root)"
   ]
  }
 ],
 "metadata": {
  "kernelspec": {
   "display_name": "Python 3",
   "language": "python",
   "name": "python3"
  },
  "language_info": {
   "codemirror_mode": {
    "name": "ipython",
    "version": 3
   },
   "file_extension": ".py",
   "mimetype": "text/x-python",
   "name": "python",
   "nbconvert_exporter": "python",
   "pygments_lexer": "ipython3",
   "version": "3.11.10"
  }
 },
 "nbformat": 4,
 "nbformat_minor": 2
}
