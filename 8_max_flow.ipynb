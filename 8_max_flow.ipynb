{
 "cells": [
  {
   "cell_type": "markdown",
   "metadata": {},
   "source": [
    "Instructions:\n",
    "\n",
    "In this programming assignment, you will implement the Ford-Fulkerson algorithm to solve the Maximum Flow Problem in a flow network. Using Breadth-First Search (BFS), you will iteratively find augmenting paths from a source node to a sink node and update the flow along these paths. This assignment will help you understand how residual capacities and reverse flows work in a network to maximize the total flow. You will work with a graph represented as an adjacency matrix and apply concepts such as graph traversal, pathfinding, and flow capacity adjustments. \n",
    "\n",
    "In this programming activity, you will have a chance to implement the max flow algorithm you have just used in the ICA.\n",
    "<<< do I need to represent the graphs from ica 8.3???\n"
   ]
  },
  {
   "cell_type": "code",
   "execution_count": null,
   "metadata": {
    "colab": {
     "base_uri": "https://localhost:8080/"
    },
    "id": "hHgrmEZUBCur",
    "outputId": "326f242c-5afa-48a5-e1c0-17249733b740"
   },
   "outputs": [],
   "source": [
    "class Graph:\n",
    "\n",
    "    def __init__(self, graph):\n",
    "        \"\"\"\n",
    "        Initialize the graph\n",
    "        1. param graph: A 2D list representing the adjacency matrix of the graph,\n",
    "                      where graph[u][v] is the capacity of the edge from node u to node v\n",
    "        \"\"\"\n",
    "        self.graph = graph  # Store the graph (capacity matrix)\n",
    "        self.no_of_nodes = len(graph)  # Number of nodes in the graph\n",
    "\n",
    "    # Using BFS as a searching algorithm\n",
    "    def aug_path_search(self, s, t, parent):\n",
    "        \"\"\"\n",
    "        Perform BFS to find an augmenting path from source (s) to sink (t)\n",
    "        1. param s: Source node\n",
    "        2. param t: Sink node\n",
    "        3. param parent: List to store the path (stores the parent of each node in the path)\n",
    "        4. return: True if an augmenting path is found, otherwise False\n",
    "        \"\"\"\n",
    "        visited = [False] * self.no_of_nodes  # Keep track of visited nodes\n",
    "        \n",
    "        queue = []  \n",
    "        queue.append(s)\n",
    "        visited[s] = True\n",
    "\n",
    "        while queue: \n",
    "            u = queue.pop(0)\n",
    "            for v in range(self.no_of_nodes):\n",
    "                if visited[v] == False and self.graph[u][v] > 0:\n",
    "                    queue.append(v)\n",
    "                    visited[v] = True\n",
    "                    parent[v] = u\n",
    "\n",
    "        return visited[t] \n",
    "\n",
    "    # Applying fordfulkerson algorithm\n",
    "    def ford_fulkerson(self, source, sink):\n",
    "        \"\"\"\n",
    "        Implement the Ford-Fulkerson method to find the maximum flow in the network\n",
    "        1. param source: Source node\n",
    "        2. param sink: Sink node\n",
    "        3. return: Maximum flow value\n",
    "        \"\"\"\n",
    "        parent = [-1] * self.no_of_nodes  # Initialize parent list to store paths\n",
    "        max_flow = 0  # Initialize the maximum flow to 0\n",
    "\n",
    "        while self.aug_path_search(source, sink, parent):\n",
    "            path_flow = float(\"inf\")\n",
    "            s = sink\n",
    "\n",
    "            while s != source:\n",
    "                path_flow = min(path_flow, self.graph[parent[s]][s])\n",
    "                s = parent[s]\n",
    "    \n",
    "            max_flow += path_flow\n",
    "            v = sink\n",
    "            while v != source:\n",
    "                u = parent[v]\n",
    "                self.graph[u][v] -= path_flow\n",
    "                self.graph[v][u] += path_flow\n",
    "                v = parent[v]\n",
    "\n",
    "        return max_flow"
   ]
  },
  {
   "cell_type": "code",
   "execution_count": null,
   "metadata": {},
   "outputs": [],
   "source": [
    "# Define the graph as a capacity matrix.\n",
    "graph = [[0, 16, 13, 0, 0, 0],  # Edge capacities from node 0 (S) to others\n",
    "         [0, 0, 0, 12, 0, 0],   # Edge capacities from node 1     to others\n",
    "         [0, 4, 0, 0, 14, 0],   # Edge capacities from node 2     to others\n",
    "         [0, 0, 9, 0, 0, 20],   # Edge capacities from node 3     to others\n",
    "         [0, 0, 0, 7, 0, 4],    # Edge capacities from node 4     to others\n",
    "         [0, 0, 0, 0, 0, 0]]    # Edge capacities from node 5 (T) to others\n"
   ]
  },
  {
   "cell_type": "code",
   "execution_count": null,
   "metadata": {},
   "outputs": [],
   "source": [
    "# Create a Graph object.\n",
    "g = Graph(graph)\n",
    "\n",
    "source = 0  # Source node (S)\n",
    "sink = 5    # Sink node (T)"
   ]
  },
  {
   "cell_type": "code",
   "execution_count": null,
   "metadata": {},
   "outputs": [
    {
     "name": "stdout",
     "output_type": "stream",
     "text": [
      "Max Flow: 23\n"
     ]
    }
   ],
   "source": [
    "# Calculate and print the maximum flow from source to sink\n",
    "print(\"Max Flow: %d\" % g.ford_fulkerson(source, sink))"
   ]
  }
 ],
 "metadata": {
  "colab": {
   "provenance": []
  },
  "kernelspec": {
   "display_name": ".venv",
   "language": "python",
   "name": "python3"
  },
  "language_info": {
   "codemirror_mode": {
    "name": "ipython",
    "version": 3
   },
   "file_extension": ".py",
   "mimetype": "text/x-python",
   "name": "python",
   "nbconvert_exporter": "python",
   "pygments_lexer": "ipython3",
   "version": "3.12.4"
  }
 },
 "nbformat": 4,
 "nbformat_minor": 0
}
