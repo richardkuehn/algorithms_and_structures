{
  "cells": [
    {
      "cell_type": "markdown",
      "metadata": {
        "id": "QuxIic64foOd"
      },
      "source": [
        "## **Majority Element**\n",
        "\n",
        "Given an array nums of size n, return the majority element.\n",
        "\n",
        "The majority element is the element that appears more than ⌊n / 2⌋ times. You may assume that the majority element always exists in the array.\n",
        "\n",
        "(Optional) Analyze the complexity of your algorithm and compare it with your classmates'\n",
        "\n",
        "Example 1:\n",
        "\n",
        "*   Input: nums = [3,2,3]\n",
        "*   Output: 3\n",
        "\n",
        "Example 2:\n",
        "\n",
        "*   Input: nums = [2,2,1,1,1,2,2]\n",
        "*   Output: 2\n"
      ]
    },
    {
      "cell_type": "code",
      "execution_count": 1,
      "metadata": {
        "id": "jYdW0TyOfqBO"
      },
      "outputs": [],
      "source": [
        "def majority(nums):\n",
        "    counts = {}\n",
        "    for num in nums:\n",
        "        counts[num] = counts.get(num, 0) + 1\n",
        "        if counts[num] > len(nums) // 2:\n",
        "            return num\n",
        "    \n",
        "nums1 = [3,2,3]\n",
        "nums2 = [2,2,1,1,1,2,2]"
      ]
    },
    {
      "cell_type": "code",
      "execution_count": 2,
      "metadata": {},
      "outputs": [
        {
          "data": {
            "text/plain": [
              "3"
            ]
          },
          "execution_count": 2,
          "metadata": {},
          "output_type": "execute_result"
        }
      ],
      "source": [
        "majority(nums1)"
      ]
    },
    {
      "cell_type": "code",
      "execution_count": 3,
      "metadata": {},
      "outputs": [
        {
          "data": {
            "text/plain": [
              "2"
            ]
          },
          "execution_count": 3,
          "metadata": {},
          "output_type": "execute_result"
        }
      ],
      "source": [
        "majority(nums2)"
      ]
    },
    {
      "cell_type": "markdown",
      "metadata": {
        "id": "1tAFWIwThqCj"
      },
      "source": [
        "## **Word Pattern**\n",
        "\n",
        "Given a pattern and a string s, find if s follows the same pattern.\n",
        "\n",
        "Here follow means a full match, such that there is a bijection between a letter in pattern and a non-empty word in s.\n",
        "\n",
        "(Optional) Analyze the complexity of your algorithm and compare it with your classmates'\n",
        "---\n",
        "\n",
        "**Example 1:**\n",
        "\n",
        "*   Input: pattern = \"abba\", s = \"dog cat cat dog\"\n",
        "*   Output: true\n",
        "\n",
        "Example 2:\n",
        "\n",
        "*   pattern = \"abba\", s = \"dog cat cat fish\"\n",
        "*   false\n",
        "\n",
        "Example 3:\n",
        "\n",
        "*   pattern = \"aaaa\", s = \"dog cat cat dog\"\n",
        "*   false"
      ]
    },
    {
      "cell_type": "code",
      "execution_count": 4,
      "metadata": {
        "colab": {
          "base_uri": "https://localhost:8080/"
        },
        "id": "VqC2BHEOhqPg",
        "outputId": "fba270c1-9f0f-4121-edf1-72ba97563e1e"
      },
      "outputs": [],
      "source": [
        "def pattern_s(pattern, s):\n",
        "    words = s.split()\n",
        "    if len(pattern) != len(words):\n",
        "        return False\n",
        "    \n",
        "    char_to_word = {}\n",
        "    word_to_char = {}\n",
        "    \n",
        "    for char, word in zip(pattern, words):\n",
        "        if char not in char_to_word and word not in word_to_char:\n",
        "            char_to_word[char] = word\n",
        "            word_to_char[word] = char\n",
        "        elif char_to_word.get(char) != word or word_to_char.get(word) != char:\n",
        "            return False\n",
        "    \n",
        "    return True"
      ]
    },
    {
      "cell_type": "code",
      "execution_count": 5,
      "metadata": {},
      "outputs": [
        {
          "data": {
            "text/plain": [
              "True"
            ]
          },
          "execution_count": 5,
          "metadata": {},
          "output_type": "execute_result"
        }
      ],
      "source": [
        "pattern_s('abba', 'dog cat cat dog')"
      ]
    },
    {
      "cell_type": "code",
      "execution_count": 6,
      "metadata": {},
      "outputs": [
        {
          "data": {
            "text/plain": [
              "False"
            ]
          },
          "execution_count": 6,
          "metadata": {},
          "output_type": "execute_result"
        }
      ],
      "source": [
        "pattern_s('abba', 'dog cat cat fish')"
      ]
    },
    {
      "cell_type": "code",
      "execution_count": 7,
      "metadata": {},
      "outputs": [
        {
          "data": {
            "text/plain": [
              "False"
            ]
          },
          "execution_count": 7,
          "metadata": {},
          "output_type": "execute_result"
        }
      ],
      "source": [
        "pattern_s('aaaa', 'dog cat cat dog')"
      ]
    },
    {
      "cell_type": "code",
      "execution_count": 8,
      "metadata": {},
      "outputs": [
        {
          "data": {
            "text/plain": [
              "True"
            ]
          },
          "execution_count": 8,
          "metadata": {},
          "output_type": "execute_result"
        }
      ],
      "source": [
        "pattern_s('aaaa', 'dog dog dog dog')"
      ]
    },
    {
      "cell_type": "markdown",
      "metadata": {
        "id": "LOetDppKZHgG"
      },
      "source": [
        "## **Roman to Integer**\n",
        "\n",
        "Roman numerals are represented by seven different symbols: I, V, X, L, C, D and M.\n",
        "\n",
        "Symbol - Value: (I - 1), (V - 5), (X - 10), (L - 50), (C - 100), (D - 500), (M - 1000)\n",
        "\n",
        "For example, `2` is written as `II` in Roman numeral, just two ones added together. `12` is written as `XII`, which is simply `X + II`. The number `27` is written as `XXVII`, which is `XX + V + II`.\n",
        "\n",
        "Roman numerals are usually written largest to smallest from left to right.\n",
        "\n",
        "However, the numeral for `four` is not `IIII`. Instead, the number `four` is written as `IV`. Because the one is before the five we subtract it making `four`. The same principle applies to the number nine, which is written as `IX`. There are six instances where subtraction is used:\n",
        "\n",
        "`I` can be placed before `V (5)` and `X (10)` to make `4` and `9`.\n",
        "\n",
        "`X` can be placed before `L (50)` and `C (100)` to make `40` and `90`.\n",
        "\n",
        "`C` can be placed before `D (500)` and `M (1000)` to make `400` and `900`.\n",
        "\n",
        "Given a roman numeral, convert it to an integer.\n",
        "\n",
        "(Optional) Analyze the complexity of your algorithm and compare it with your classmates'\n",
        "\n",
        "---\n",
        "\n",
        "**Example 1:**\n",
        "\n",
        "*   Input: s = \"III\"\n",
        "*   Output: 3\n",
        "*   Explanation: III = 3.\n",
        "\n",
        "**Example 2:**\n",
        "\n",
        "*   Input: s = \"LVIII\"\n",
        "*   Output: 58\n",
        "*   Explanation: L = 50, V= 5, III = 3.\n",
        "\n",
        "**Example 3:**\n",
        "\n",
        "*   Input: s = \"MCMXCIV\"\n",
        "*   Output: 1994\n",
        "*   Explanation: M = 1000, CM = 900, XC = 90 and IV = 4.\n"
      ]
    },
    {
      "cell_type": "code",
      "execution_count": 9,
      "metadata": {},
      "outputs": [],
      "source": [
        "def roman_int(s):\n",
        "    roman_values = {'I': 1, 'V': 5, 'X': 10, 'L': 50, 'C': 100, 'D': 500, 'M': 1000}\n",
        "    total = 0\n",
        "    prev_value = 0\n",
        "    for char in reversed(s):                           # reversing allows us to subtract if the next value is less than the current value\n",
        "        curr_value = roman_values[char]\n",
        "        if curr_value >= prev_value:\n",
        "            total += curr_value\n",
        "        else:\n",
        "            total -= curr_value\n",
        "        prev_value = curr_value\n",
        "    return total"
      ]
    },
    {
      "cell_type": "code",
      "execution_count": 10,
      "metadata": {},
      "outputs": [
        {
          "data": {
            "text/plain": [
              "3"
            ]
          },
          "execution_count": 10,
          "metadata": {},
          "output_type": "execute_result"
        }
      ],
      "source": [
        "roman_int('III')"
      ]
    },
    {
      "cell_type": "code",
      "execution_count": 11,
      "metadata": {},
      "outputs": [
        {
          "data": {
            "text/plain": [
              "58"
            ]
          },
          "execution_count": 11,
          "metadata": {},
          "output_type": "execute_result"
        }
      ],
      "source": [
        "roman_int('LVIII')"
      ]
    },
    {
      "cell_type": "code",
      "execution_count": 12,
      "metadata": {},
      "outputs": [
        {
          "data": {
            "text/plain": [
              "1994"
            ]
          },
          "execution_count": 12,
          "metadata": {},
          "output_type": "execute_result"
        }
      ],
      "source": [
        "roman_int('MCMXCIV')"
      ]
    }
  ],
  "metadata": {
    "colab": {
      "provenance": []
    },
    "kernelspec": {
      "display_name": "Python 3",
      "name": "python3"
    },
    "language_info": {
      "codemirror_mode": {
        "name": "ipython",
        "version": 3
      },
      "file_extension": ".py",
      "mimetype": "text/x-python",
      "name": "python",
      "nbconvert_exporter": "python",
      "pygments_lexer": "ipython3",
      "version": "3.11.10"
    }
  },
  "nbformat": 4,
  "nbformat_minor": 0
}
