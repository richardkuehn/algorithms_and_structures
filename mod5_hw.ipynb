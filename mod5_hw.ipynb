{
  "cells": [
    {
      "cell_type": "markdown",
      "metadata": {
        "id": "dJIXJaAEu3fS"
      },
      "source": [
        "# Binary Search Tree. HW 5.4\n",
        "\n",
        "\n",
        "**INSTRUCTIONS**\n",
        "\n",
        "Below is code for a Binary Search Tree Class. Seven of the methods in this implementation are incomplete : `find`, `size`, `preorder`, `inorder`, `postorder`, \\_\\_str\\_\\_ and `height`. It is your task to complete them. Use the testing code to test and confirm your implementation. Submit the completed notebook file (BOTH the .ipynb and a rendered .html).\n",
        "\n",
        "**Note:** Finding the height of a binary tree is a common tech interview question.\n",
        "\n",
        "**POINT VALUES: (TOTAL=100)**  \n",
        "\n",
        "| method| points |\n",
        "| :----| ---- |\n",
        "| find | 15   |\n",
        "| size | 10   |\n",
        "| inorder | 15   |\n",
        "| preorder | 15   |\n",
        "| postorder | 15   |\n",
        "| str | 20   |\n",
        "| height | 10  |"
      ]
    },
    {
      "cell_type": "markdown",
      "metadata": {
        "id": "qpP8DA3KuwrN"
      },
      "source": [
        "---\n",
        "\n",
        "**ABOUT THE CLASSES**\n",
        "\n",
        "The `Node` class describes the structure of a node in the tree: each node has a data item and can have a left and right child.\n",
        "\n",
        "The `BinarySearchTree` class is responsible for tree-level methods such as `buildBST`, inserting a data value in the right place/node in the BST tree (we populate the tree given a list data values through main), and the tree traversal methods.\n",
        "\n",
        "---"
      ]
    },
    {
      "cell_type": "code",
      "execution_count": 1,
      "metadata": {
        "id": "WjWSpaVdu3X6"
      },
      "outputs": [],
      "source": [
        "# -*- coding: utf-8 -*-\n",
        "\"\"\"\n",
        "Binary Search Tree\n",
        "Plus tree traversal methods\n",
        "\n",
        "NOTE: I placed return statements immediately after the function declarations so\n",
        "you can run the code and see the print statments before beginning the assignment.\n",
        "HOWEVER ... You will need to move the return statements to the end of the functions\n",
        "once you complete each function implementation :)\n",
        "\"\"\"\n",
        "import matplotlib.pyplot as plt\n",
        "import networkx as nx"
      ]
    },
    {
      "cell_type": "code",
      "execution_count": 2,
      "metadata": {},
      "outputs": [],
      "source": [
        "class Node:\n",
        "\n",
        "      def __init__(self, data): # Constructor of Node class\n",
        "            # A node has a data value, a left child node and a right child node\n",
        "          self.data = data  #data item\n",
        "          self.left = None  #left child, initially empty\n",
        "          self.right = None #right child, initially empty\n",
        "\n",
        "\n",
        "      def __str__(self): # Printing a node\n",
        "          return str(self.data) #return as string\n"
      ]
    },
    {
      "cell_type": "code",
      "execution_count": 3,
      "metadata": {},
      "outputs": [],
      "source": [
        "class BinarySearchTree:\n",
        "    def __init__(self):\n",
        "        self.root = None\n",
        "        self.nodes = []\n",
        "        self.edges = []\n",
        "        # Dictionary to store level and position information for each node\n",
        "        self.node_positions = {}\n",
        "        self.levels = {}  # Track levels for positioning\n",
        "        \n",
        "    def buildBST(self, val):\n",
        "        if self.root is None:\n",
        "            self.root = Node(val)\n",
        "            self.nodes.append(val)\n",
        "            # Initialize root position\n",
        "            self.node_positions[val] = (10, 10)  # Root at top center\n",
        "            self.levels[val] = 0  # Root is at level 0\n",
        "        else:\n",
        "            current = self.root\n",
        "            current_level = 0\n",
        "            while True:\n",
        "                if val < current.data:\n",
        "                    if current.left:\n",
        "                        current = current.left\n",
        "                        current_level += 1\n",
        "                    else:\n",
        "                        current.left = Node(val)\n",
        "                        self.nodes.append(val)\n",
        "                        self.edges.append((current.data, val))\n",
        "                        \n",
        "                        # Calculate position for left child\n",
        "                        current_level += 1\n",
        "                        parent_x, parent_y = self.node_positions[current.data]\n",
        "                        new_x = parent_x - (5 / (current_level + 1))  # Adjust spread based on level\n",
        "                        new_y = parent_y - 2\n",
        "                        self.node_positions[val] = (new_x, new_y)\n",
        "                        self.levels[val] = current_level\n",
        "                        break\n",
        "\n",
        "                elif val > current.data:\n",
        "                    if current.right:\n",
        "                        current = current.right\n",
        "                        current_level += 1\n",
        "                    else:\n",
        "                        current.right = Node(val)\n",
        "                        self.nodes.append(val)\n",
        "                        self.edges.append((current.data, val))\n",
        "                        # Calculate position for right child\n",
        "                        current_level += 1\n",
        "                        parent_x, parent_y = self.node_positions[current.data]\n",
        "                        new_x = parent_x + (5 / (current_level + 1))  # Adjust spread based on level\n",
        "                        new_y = parent_y - 2\n",
        "                        self.node_positions[val] = (new_x, new_y)\n",
        "                        self.levels[val] = current_level\n",
        "                        break\n",
        "                    \n",
        "                else:\n",
        "                    break\n",
        "\n",
        "    def find(self, target):\n",
        "        current = self.root\n",
        "        while current is not None:\n",
        "            if target == current.data:\n",
        "                return True\n",
        "            elif target < current.data:\n",
        "                current = current.left\n",
        "            else:\n",
        "                current = current.right\n",
        "        return False\n",
        "\n",
        "    def size(self, node):\n",
        "        if node is None:\n",
        "            return 0\n",
        "        return 1 + self.size(node.left) + self.size(node.right)\n",
        "\n",
        "    def inorder(self, node):\n",
        "        if node:\n",
        "            self.inorder(node.left)\n",
        "            print(node.data, end=' ')\n",
        "            self.inorder(node.right)\n",
        "\n",
        "    def preorder(self, node):\n",
        "        if node:\n",
        "            print(node.data, end=' ')\n",
        "            self.preorder(node.left)\n",
        "            self.preorder(node.right)\n",
        "\n",
        "    def postorder(self, node):\n",
        "        if node:\n",
        "            self.postorder(node.left)\n",
        "            self.postorder(node.right)\n",
        "            print(node.data, end=' ')\n",
        "\n",
        "    def __str__(self):\n",
        "        \"\"\"\n",
        "        Create a hierarchical visualization of the BST using networkx.\n",
        "        \"\"\"\n",
        "        if not self.nodes:\n",
        "            return \"This tree is empty!\"\n",
        "        \n",
        "        G = nx.DiGraph()\n",
        "        G.add_nodes_from(self.nodes)\n",
        "        G.add_edges_from(self.edges)\n",
        "        \n",
        "        plt.figure(figsize=(9, 6))\n",
        "\n",
        "        nx.draw(G, pos=self.node_positions, \n",
        "               with_labels=True,\n",
        "               node_color='lightblue',\n",
        "               node_size=1000,\n",
        "               arrowsize=20,\n",
        "               font_size=12,\n",
        "               font_weight='bold',\n",
        "               arrows=True,\n",
        "               node_shape='s')\n",
        "        \n",
        "        plt.title(\"Binary Search Tree Visualization\")\n",
        "        plt.axis('off')\n",
        "        plt.show()\n",
        "        \n",
        "        return f\"BST with {len(self.nodes)} nodes\"\n",
        "\n",
        "    def height(self, node):\n",
        "        if node is None:\n",
        "            return 0\n",
        "        return max(self.height(node.left), self.height(node.right)) + 1\n",
        "    "
      ]
    },
    {
      "cell_type": "code",
      "execution_count": 4,
      "metadata": {
        "colab": {
          "base_uri": "https://localhost:8080/"
        },
        "id": "xMczZGF-_bw9",
        "outputId": "9f642c2e-6af5-4250-b461-08869e99b2b3"
      },
      "outputs": [],
      "source": [
        "##################\n",
        "## Testing Code ##\n",
        "##################\n",
        "\n",
        "tree = BinarySearchTree()\n",
        "treeEmpty = BinarySearchTree()  # Empty tree\n",
        "\n",
        "arr = [8,3,1,6,4,7,10,14,13]    # Array of nodes (data items)\n",
        "for i in arr:                   # For each data item, build the Binary Search Tree\n",
        "    tree.buildBST(i)"
      ]
    },
    {
      "cell_type": "code",
      "execution_count": 5,
      "metadata": {},
      "outputs": [
        {
          "name": "stdout",
          "output_type": "stream",
          "text": [
            "What's the size of the tree?\n",
            "9\n"
          ]
        }
      ],
      "source": [
        "\n",
        "print('What\\'s the size of the tree?')\n",
        "print(tree.size(tree.root))     # size method\n"
      ]
    },
    {
      "cell_type": "code",
      "execution_count": 6,
      "metadata": {},
      "outputs": [
        {
          "name": "stdout",
          "output_type": "stream",
          "text": [
            "What's the size of the tree?\n",
            "0\n"
          ]
        }
      ],
      "source": [
        "\n",
        "print('What\\'s the size of the tree?')\n",
        "print(treeEmpty.size(treeEmpty.root))\n"
      ]
    },
    {
      "cell_type": "code",
      "execution_count": 7,
      "metadata": {},
      "outputs": [
        {
          "name": "stdout",
          "output_type": "stream",
          "text": [
            "\n",
            "In-order Tree Traversal:\n",
            "1 3 4 6 7 8 10 13 14 "
          ]
        }
      ],
      "source": [
        "\n",
        "print(\"\")\n",
        "print ('In-order Tree Traversal:')\n",
        "tree.inorder(tree.root)         # Perform in-order tree traversal, and print\n"
      ]
    },
    {
      "cell_type": "code",
      "execution_count": 8,
      "metadata": {},
      "outputs": [
        {
          "name": "stdout",
          "output_type": "stream",
          "text": [
            "\n",
            "Pre-order Tree Traversal:\n",
            "8 3 1 6 4 7 10 14 13 "
          ]
        }
      ],
      "source": [
        "\n",
        "print(\"\")\n",
        "print ('Pre-order Tree Traversal:')\n",
        "tree.preorder(tree.root)        # Perform pre-order tree traversal, and print\n"
      ]
    },
    {
      "cell_type": "code",
      "execution_count": 9,
      "metadata": {},
      "outputs": [
        {
          "name": "stdout",
          "output_type": "stream",
          "text": [
            "\n",
            "Post-order Tree Traversal:\n",
            "1 4 7 6 3 13 14 10 8 "
          ]
        }
      ],
      "source": [
        "\n",
        "print(\"\")\n",
        "print ('Post-order Tree Traversal:')\n",
        "tree.postorder(tree.root)       # Perform post-order tree traversal, and print\n"
      ]
    },
    {
      "cell_type": "code",
      "execution_count": 10,
      "metadata": {},
      "outputs": [
        {
          "name": "stdout",
          "output_type": "stream",
          "text": [
            "\n",
            "Find 7: True\n"
          ]
        }
      ],
      "source": [
        "\n",
        "print(\"\")\n",
        "print ('Find 7:', end=\" \")      # find method\n",
        "print(tree.find(7))\n"
      ]
    },
    {
      "cell_type": "code",
      "execution_count": 11,
      "metadata": {},
      "outputs": [
        {
          "name": "stdout",
          "output_type": "stream",
          "text": [
            "Find 5: False\n"
          ]
        }
      ],
      "source": [
        "\n",
        "print('Find 5:', end=\" \")\n",
        "print(tree.find(5))\n"
      ]
    },
    {
      "cell_type": "code",
      "execution_count": 12,
      "metadata": {},
      "outputs": [
        {
          "name": "stdout",
          "output_type": "stream",
          "text": [
            "Find 30: False\n"
          ]
        }
      ],
      "source": [
        "\n",
        "print('Find 30:', end=\" \")\n",
        "print(tree.find(30))\n"
      ]
    },
    {
      "cell_type": "code",
      "execution_count": 13,
      "metadata": {},
      "outputs": [
        {
          "name": "stdout",
          "output_type": "stream",
          "text": [
            "\n",
            "\n",
            "Display Figure of Tree:\n"
          ]
        },
        {
          "data": {
            "image/png": "[encoded data removed]",
            "text/plain": [
              "<Figure size 900x600 with 1 Axes>"
            ]
          },
          "metadata": {},
          "output_type": "display_data"
        },
        {
          "name": "stdout",
          "output_type": "stream",
          "text": [
            "BST with 9 nodes\n"
          ]
        }
      ],
      "source": [
        "print(\"\")\n",
        "print(\"\")\n",
        "print ('Display Figure of Tree:')\n",
        "print(tree)"
      ]
    },
    {
      "cell_type": "code",
      "execution_count": 14,
      "metadata": {},
      "outputs": [
        {
          "name": "stdout",
          "output_type": "stream",
          "text": [
            "\n",
            "Height of the Tree:\n",
            "4\n"
          ]
        }
      ],
      "source": [
        "\n",
        "print(\"\")\n",
        "print('Height of the Tree:')\n",
        "print(tree.height(tree.root))"
      ]
    }
  ],
  "metadata": {
    "colab": {
      "provenance": []
    },
    "kernelspec": {
      "display_name": ".venv",
      "language": "python",
      "name": "python3"
    },
    "language_info": {
      "codemirror_mode": {
        "name": "ipython",
        "version": 3
      },
      "file_extension": ".py",
      "mimetype": "text/x-python",
      "name": "python",
      "nbconvert_exporter": "python",
      "pygments_lexer": "ipython3",
      "version": "3.12.4"
    }
  },
  "nbformat": 4,
  "nbformat_minor": 0
}
